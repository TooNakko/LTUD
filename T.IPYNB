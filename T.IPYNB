{
 "cells": [
  {
   "cell_type": "code",
   "execution_count": 43,
   "metadata": {},
   "outputs": [],
   "source": [
    "import pandas\n",
    "import numpy as np\n",
    "import matplotlib.pyplot as plt\n",
    "from sklearn import linear_model\n",
    "from sklearn import tree\n",
    "from sklearn.metrics import r2_score\n",
    "from sklearn.tree import DecisionTreeClassifier\n",
    "from sklearn.ensemble import RandomForestClassifier\n",
    "import warnings\n",
    "from sklearn import metrics\n",
    "\n",
    "warnings.filterwarnings(\"ignore\")\n",
    "\n",
    "no_of_tests = 900\n",
    "\n",
    "dTree = DecisionTreeClassifier(criterion=\"gini\")\n",
    "rfc = RandomForestClassifier(n_estimators=100)\n",
    "\n",
    "specific_range = range(0,no_of_tests)\n",
    "df = pandas.read_csv(\"heart_statlog_cleveland_hungary_final.csv\", skiprows = lambda x: x not in specific_range)\n",
    "features = ['age', 'sex', 'chest_pain_type', 'resting_bps', 'cholesterol', 'fasting blood sugar']\n",
    "\n",
    "\n",
    "X = df[features]\n",
    "y = df[['target']]\n",
    "dTree = dTree.fit(X, y)\n",
    "rfc   =   rfc.fit(X,y)\n",
    "\n"
   ]
  },
  {
   "cell_type": "code",
   "execution_count": 44,
   "metadata": {},
   "outputs": [],
   "source": [
    "specific_range_test = range(no_of_tests,1192)\n",
    "df_test = pandas.read_csv(\"heart_statlog_cleveland_hungary_final.csv\", skiprows = lambda x: x not in specific_range_test and x != 0)\n",
    "\n",
    "test_arr = []\n",
    "target_truth = []\n",
    "for idx in range    (len(df_test)):\n",
    "    test_arr.append([df_test.at[idx, 'age'],df_test.at[idx, 'sex'],df_test.at[idx, 'chest_pain_type'],df_test.at[idx, 'resting_bps'],df_test.at[idx, 'cholesterol'], df_test.at[idx, 'fasting blood sugar']])\n",
    "    target_truth.append([df_test.at[idx, 'target']])\n",
    "target_truth = np.array( [item for sublist in target_truth for item in sublist])\n",
    "\n",
    "test_predicted_dtree = dTree.predict(test_arr)\n",
    "\n",
    "\n",
    "\n",
    "#print(\"DTREE PREDICTION: \", dTree.predict([[49, 1, 3, 150, 291]]))\n",
    "#print(\"RFC PREDICTION: \",  rfc.predict([[49, 1, 3, 150, 291]]))"
   ]
  },
  {
   "cell_type": "code",
   "execution_count": 45,
   "metadata": {},
   "outputs": [
    {
     "name": "stdout",
     "output_type": "stream",
     "text": [
      "Accuracy: 0.9690721649484536\n",
      "Precision: 0.9921259842519685\n",
      "Sensitivity: 0.9402985074626866\n",
      "Specificity: 0.9936305732484076\n",
      "F1 score: 0.9655172413793104\n"
     ]
    },
    {
     "data": {
      "image/png": "[encoded data removed]",
      "text/plain": [
       "<Figure size 640x480 with 2 Axes>"
      ]
     },
     "metadata": {},
     "output_type": "display_data"
    }
   ],
   "source": [
    "confusion_matrix = metrics.confusion_matrix(target_truth, test_predicted_dtree)\n",
    "cm_display = metrics.ConfusionMatrixDisplay(confusion_matrix = confusion_matrix)\n",
    "Accuracy = metrics.accuracy_score(target_truth, test_predicted_dtree)\n",
    "Precision = metrics.precision_score(target_truth, test_predicted_dtree)\n",
    "Sensitivity_recall = metrics.recall_score(target_truth, test_predicted_dtree)\n",
    "Specificity = metrics.recall_score(target_truth, test_predicted_dtree, pos_label=0)\n",
    "F1_score = metrics.f1_score(target_truth, test_predicted_dtree)\n",
    "print(\"Accuracy: {}\\nPrecision: {}\\nSensitivity: {}\\nSpecificity: {}\\nF1 score: {}\".format(Accuracy, Precision, Sensitivity_recall, Specificity, F1_score))\n",
    "\n",
    "cm_display.plot()\n",
    "plt.show()"
   ]
  },
  {
   "cell_type": "code",
   "execution_count": 46,
   "metadata": {},
   "outputs": [
    {
     "name": "stdout",
     "output_type": "stream",
     "text": [
      "Total false predictions:  9  out of  291\n"
     ]
    }
   ],
   "source": [
    "count_false_dtree = 0\n",
    "for idx in range(len(test_arr)):\n",
    "    #if np.array_equal(test_predicted_dtree[idx], target_truth[idx]):\n",
    "    if test_predicted_dtree[idx] == target_truth[idx]:\n",
    "        continue\n",
    "    else:\n",
    "        count_false_dtree +=1\n",
    "        #print(\"Wrong prediction found at sample {}: {}\\nTruth is {} while {} is predicted.\\n\\n\".format(no_of_tests + idx, test_arr[idx], test_predicted_dtree[idx], target_truth[idx]))\n",
    "print('Total false predictions: ', count_false_dtree, ' out of ', len(test_arr))"
   ]
  },
  {
   "cell_type": "code",
   "execution_count": 48,
   "metadata": {},
   "outputs": [
    {
     "name": "stdout",
     "output_type": "stream",
     "text": [
      "Total false prediction:  8\n"
     ]
    }
   ],
   "source": [
    "test_predicted_rfc = rfc.predict(test_arr)\n",
    "count_false_rfc = 0\n",
    "\n",
    "for idx in range(len(test_arr)):\n",
    "    if (test_predicted_rfc[idx] == target_truth[idx]).all():\n",
    "        continue\n",
    "    else:\n",
    "        count_false_rfc+=1\n",
    "        #print(\"Wrong prediction found at sample {}: {}\\nTruth is {} while {} is predicted.\\n\\n\".format(no_of_tests + idx, test_arr[idx], test_predicted_rfc[idx], target_truth[idx]))\n",
    "print('Total false prediction: ', count_false_rfc)"
   ]
  },
  {
   "cell_type": "code",
   "execution_count": 49,
   "metadata": {},
   "outputs": [],
   "source": [
    "#tree.plot_tree(dTree, feature_names=features)\n",
    "#plt.savefig(\"maxdepth10.png\", dpi = 1000)"
   ]
  }
 ],
 "metadata": {
  "kernelspec": {
   "display_name": "Python 3",
   "language": "python",
   "name": "python3"
  },
  "language_info": {
   "codemirror_mode": {
    "name": "ipython",
    "version": 3
   },
   "file_extension": ".py",
   "mimetype": "text/x-python",
   "name": "python",
   "nbconvert_exporter": "python",
   "pygments_lexer": "ipython3",
   "version": "3.9.7"
  }
 },
 "nbformat": 4,
 "nbformat_minor": 2
}
