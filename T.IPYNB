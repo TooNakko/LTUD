{
 "cells": [
  {
   "cell_type": "code",
   "execution_count": 111,
   "metadata": {},
   "outputs": [
    {
     "name": "stdout",
     "output_type": "stream",
     "text": [
      "<class 'pandas.core.frame.DataFrame'>\n"
     ]
    }
   ],
   "source": [
    "import pandas\n",
    "import numpy as np\n",
    "import matplotlib.pyplot as plt\n",
    "from sklearn import linear_model\n",
    "from sklearn import tree\n",
    "from sklearn.metrics import r2_score\n",
    "from sklearn.tree import DecisionTreeClassifier\n",
    "from sklearn.ensemble import RandomForestClassifier\n",
    "import warnings\n",
    "\n",
    "warnings.filterwarnings(\"ignore\")\n",
    "\n",
    "no_of_tests = 900\n",
    "\n",
    "dTree = DecisionTreeClassifier(criterion=\"gini\")\n",
    "rfc = RandomForestClassifier(n_estimators=100)\n",
    "\n",
    "specific_range = range(0,no_of_tests)\n",
    "df = pandas.read_csv(\"heart_statlog_cleveland_hungary_final.csv\", skiprows = lambda x: x not in specific_range)\n",
    "features = ['age', 'sex', 'chest_pain_type', 'resting_bps', 'cholesterol', 'fasting blood sugar']\n",
    "print(type(df))\n",
    "\n",
    "X = df[features]\n",
    "y = df[['target']]\n",
    "dTree = dTree.fit(X, y)\n",
    "rfc   =   rfc.fit(X,y)\n",
    "\n"
   ]
  },
  {
   "cell_type": "code",
   "execution_count": 112,
   "metadata": {},
   "outputs": [
    {
     "name": "stdout",
     "output_type": "stream",
     "text": [
      "[[56, 1, 3, 130, 256, 1], [44, 1, 2, 120, 263, 0], [52, 1, 3, 172, 199, 1], [57, 1, 3, 150, 168, 0], [48, 1, 2, 110, 229, 0], [54, 1, 4, 140, 239, 0], [48, 0, 3, 130, 275, 0], [49, 1, 2, 130, 266, 0], [64, 1, 1, 110, 211, 0], [58, 0, 1, 150, 283, 1], [58, 1, 2, 120, 284, 0], [58, 1, 3, 132, 224, 0], [60, 1, 4, 130, 206, 0], [50, 0, 3, 120, 219, 0], [58, 0, 3, 120, 340, 0], [66, 0, 1, 150, 226, 0], [43, 1, 4, 150, 247, 0], [40, 1, 4, 110, 167, 0], [69, 0, 1, 140, 239, 0], [60, 1, 4, 117, 230, 1], [64, 1, 3, 140, 335, 0], [59, 1, 4, 135, 234, 0], [44, 1, 3, 130, 233, 0], [42, 1, 4, 140, 226, 0], [43, 1, 4, 120, 177, 0], [57, 1, 4, 150, 276, 0], [55, 1, 4, 132, 353, 0], [61, 1, 3, 150, 243, 1], [65, 0, 4, 150, 225, 0], [40, 1, 1, 140, 199, 0], [71, 0, 2, 160, 302, 0], [59, 1, 3, 150, 212, 1], [61, 0, 4, 130, 330, 0], [58, 1, 3, 112, 230, 0], [51, 1, 3, 110, 175, 0], [50, 1, 4, 150, 243, 0], [65, 0, 3, 140, 417, 1], [53, 1, 3, 130, 197, 1], [41, 0, 2, 105, 198, 0], [65, 1, 4, 120, 177, 0], [44, 1, 4, 112, 290, 0], [44, 1, 2, 130, 219, 0], [60, 1, 4, 130, 253, 0], [54, 1, 4, 124, 266, 0], [50, 1, 3, 140, 233, 0], [41, 1, 4, 110, 172, 0], [54, 1, 3, 125, 273, 0], [51, 1, 1, 125, 213, 0], [51, 0, 4, 130, 305, 0], [46, 0, 3, 142, 177, 0], [58, 1, 4, 128, 216, 0], [54, 0, 3, 135, 304, 1], [54, 1, 4, 120, 188, 0], [60, 1, 4, 145, 282, 0], [60, 1, 3, 140, 185, 0], [54, 1, 3, 150, 232, 0], [59, 1, 4, 170, 326, 0], [46, 1, 3, 150, 231, 0], [65, 0, 3, 155, 269, 0], [67, 1, 4, 125, 254, 1], [62, 1, 4, 120, 267, 0], [65, 1, 4, 110, 248, 0], [44, 1, 4, 110, 197, 0], [65, 0, 3, 160, 360, 0], [60, 1, 4, 125, 258, 0], [51, 0, 3, 140, 308, 0], [48, 1, 2, 130, 245, 0], [58, 1, 4, 150, 270, 0], [45, 1, 4, 104, 208, 0], [53, 0, 4, 130, 264, 0], [39, 1, 3, 140, 321, 0], [68, 1, 3, 180, 274, 1], [52, 1, 2, 120, 325, 0], [44, 1, 3, 140, 235, 0], [47, 1, 3, 138, 257, 0], [53, 0, 3, 128, 216, 0], [53, 0, 4, 138, 234, 0], [51, 0, 3, 130, 256, 0], [66, 1, 4, 120, 302, 0], [62, 0, 4, 160, 164, 0], [62, 1, 3, 130, 231, 0], [44, 0, 3, 108, 141, 0], [63, 0, 3, 135, 252, 0], [52, 1, 4, 128, 255, 0], [59, 1, 4, 110, 239, 0], [60, 0, 4, 150, 258, 0], [52, 1, 2, 134, 201, 0], [48, 1, 4, 122, 222, 0], [45, 1, 4, 115, 260, 0], [34, 1, 1, 118, 182, 0], [57, 0, 4, 128, 303, 0], [71, 0, 3, 110, 265, 1], [49, 1, 3, 120, 188, 0], [54, 1, 2, 108, 309, 0], [59, 1, 4, 140, 177, 0], [57, 1, 3, 128, 229, 0], [61, 1, 4, 120, 260, 0], [39, 1, 4, 118, 219, 0], [61, 0, 4, 145, 307, 0], [56, 1, 4, 125, 249, 1], [52, 1, 1, 118, 186, 0], [43, 0, 4, 132, 341, 1], [62, 0, 3, 130, 263, 0], [41, 1, 2, 135, 203, 0], [58, 1, 3, 140, 211, 1], [35, 0, 4, 138, 183, 0], [63, 1, 4, 130, 330, 1], [65, 1, 4, 135, 254, 0], [48, 1, 4, 130, 256, 1], [63, 0, 4, 150, 407, 0], [51, 1, 3, 100, 222, 0], [55, 1, 4, 140, 217, 0], [65, 1, 1, 138, 282, 1], [45, 0, 2, 130, 234, 0], [56, 0, 4, 200, 288, 1], [54, 1, 4, 110, 239, 0], [44, 1, 2, 120, 220, 0], [62, 0, 4, 124, 209, 0], [54, 1, 3, 120, 258, 0], [51, 1, 3, 94, 227, 0], [29, 1, 2, 130, 204, 0], [51, 1, 4, 140, 261, 0], [43, 0, 3, 122, 213, 0], [55, 0, 2, 135, 250, 0], [70, 1, 4, 145, 174, 0], [62, 1, 2, 120, 281, 0], [35, 1, 4, 120, 198, 0], [51, 1, 3, 125, 245, 1], [59, 1, 2, 140, 221, 0], [59, 1, 1, 170, 288, 0], [52, 1, 2, 128, 205, 1], [64, 1, 3, 125, 309, 0], [58, 1, 3, 105, 240, 0], [47, 1, 3, 108, 243, 0], [57, 1, 4, 165, 289, 1], [41, 1, 3, 112, 250, 0], [45, 1, 2, 128, 308, 0], [60, 0, 3, 102, 318, 0], [52, 1, 1, 152, 298, 1], [42, 0, 4, 102, 265, 0], [67, 0, 3, 115, 564, 0], [55, 1, 4, 160, 289, 0], [64, 1, 4, 120, 246, 0], [70, 1, 4, 130, 322, 0], [51, 1, 4, 140, 299, 0], [58, 1, 4, 125, 300, 0], [60, 1, 4, 140, 293, 0], [68, 1, 3, 118, 277, 0], [46, 1, 2, 101, 197, 1], [77, 1, 4, 125, 304, 0], [54, 0, 3, 110, 214, 0], [58, 0, 4, 100, 248, 0], [48, 1, 3, 124, 255, 1], [57, 1, 4, 132, 207, 0], [52, 1, 3, 138, 223, 0], [54, 0, 2, 132, 288, 1], [35, 1, 4, 126, 282, 0], [45, 0, 2, 112, 160, 0], [70, 1, 3, 160, 269, 0], [53, 1, 4, 142, 226, 0], [59, 0, 4, 174, 249, 0], [62, 0, 4, 140, 394, 0], [64, 1, 4, 145, 212, 0], [57, 1, 4, 152, 274, 0], [52, 1, 4, 108, 233, 1], [56, 1, 4, 132, 184, 0], [43, 1, 3, 130, 315, 0], [53, 1, 3, 130, 246, 1], [48, 1, 4, 124, 274, 0], [56, 0, 4, 134, 409, 0], [42, 1, 1, 148, 244, 0], [59, 1, 1, 178, 270, 0], [60, 0, 4, 158, 305, 0], [63, 0, 2, 140, 195, 0], [42, 1, 3, 120, 240, 1], [66, 1, 2, 160, 246, 0], [54, 1, 2, 192, 283, 0], [69, 1, 3, 140, 254, 0], [50, 1, 3, 129, 196, 0], [51, 1, 4, 140, 298, 0], [43, 1, 4, 132, 247, 1], [62, 0, 4, 138, 294, 1], [68, 0, 3, 120, 211, 0], [67, 1, 4, 100, 299, 0], [69, 1, 1, 160, 234, 1], [45, 0, 4, 138, 236, 0], [50, 0, 2, 120, 244, 0], [59, 1, 1, 160, 273, 0], [50, 0, 4, 110, 254, 0], [64, 0, 4, 180, 325, 0], [57, 1, 3, 150, 126, 1], [64, 0, 3, 140, 313, 0], [43, 1, 4, 110, 211, 0], [45, 1, 4, 142, 309, 0], [58, 1, 4, 128, 259, 0], [50, 1, 4, 144, 200, 0], [55, 1, 2, 130, 262, 0], [62, 0, 4, 150, 244, 0], [37, 0, 3, 120, 215, 0], [38, 1, 1, 120, 231, 0], [41, 1, 3, 130, 214, 0], [66, 0, 4, 178, 228, 1], [52, 1, 4, 112, 230, 0], [56, 1, 1, 120, 193, 0], [46, 0, 2, 105, 204, 0], [46, 0, 4, 138, 243, 0], [64, 0, 4, 130, 303, 0], [59, 1, 4, 138, 271, 0], [41, 0, 3, 112, 268, 0], [54, 0, 3, 108, 267, 0], [39, 0, 3, 94, 199, 0], [53, 1, 4, 123, 282, 0], [63, 0, 4, 108, 269, 0], [34, 0, 2, 118, 210, 0], [47, 1, 4, 112, 204, 0], [67, 0, 3, 152, 277, 0], [54, 1, 4, 110, 206, 0], [66, 1, 4, 112, 212, 0], [52, 0, 3, 136, 196, 0], [55, 0, 4, 180, 327, 0], [49, 1, 3, 118, 149, 0], [74, 0, 2, 120, 269, 0], [54, 0, 3, 160, 201, 0], [54, 1, 4, 122, 286, 0], [56, 1, 4, 130, 283, 1], [46, 1, 4, 120, 249, 0], [49, 0, 2, 134, 271, 0], [42, 1, 2, 120, 295, 0], [41, 1, 2, 110, 235, 0], [41, 0, 2, 126, 306, 0], [49, 0, 4, 130, 269, 0], [61, 1, 1, 134, 234, 0], [60, 0, 3, 120, 178, 1], [67, 1, 4, 120, 237, 0], [58, 1, 4, 100, 234, 0], [47, 1, 4, 110, 275, 0], [52, 1, 4, 125, 212, 0], [62, 1, 2, 128, 208, 1], [57, 1, 4, 110, 201, 0], [58, 1, 4, 146, 218, 0], [64, 1, 4, 128, 263, 0], [51, 0, 3, 120, 295, 0], [43, 1, 4, 115, 303, 0], [42, 0, 3, 120, 209, 0], [67, 0, 4, 106, 223, 0], [76, 0, 3, 140, 197, 0], [70, 1, 2, 156, 245, 0], [57, 1, 2, 124, 261, 0], [44, 0, 3, 118, 242, 0], [58, 0, 2, 136, 319, 1], [60, 0, 1, 150, 240, 0], [44, 1, 3, 120, 226, 0], [61, 1, 4, 138, 166, 0], [42, 1, 4, 136, 315, 0], [52, 1, 4, 128, 204, 1], [59, 1, 3, 126, 218, 1], [40, 1, 4, 152, 223, 0], [42, 1, 3, 130, 180, 0], [61, 1, 4, 140, 207, 0], [66, 1, 4, 160, 228, 0], [46, 1, 4, 140, 311, 0], [71, 0, 4, 112, 149, 0], [59, 1, 1, 134, 204, 0], [64, 1, 1, 170, 227, 0], [66, 0, 3, 146, 278, 0], [39, 0, 3, 138, 220, 0], [57, 1, 2, 154, 232, 0], [58, 0, 4, 130, 197, 0], [57, 1, 4, 110, 335, 0], [47, 1, 3, 130, 253, 0], [55, 0, 4, 128, 205, 0], [35, 1, 2, 122, 192, 0], [61, 1, 4, 148, 203, 0], [58, 1, 4, 114, 318, 0], [58, 0, 4, 170, 225, 1], [58, 1, 2, 125, 220, 0], [56, 1, 2, 130, 221, 0], [56, 1, 2, 120, 240, 0], [67, 1, 3, 152, 212, 0], [55, 0, 2, 132, 342, 0], [44, 1, 4, 120, 169, 0], [63, 1, 4, 140, 187, 0], [63, 0, 4, 124, 197, 0], [41, 1, 2, 120, 157, 0], [59, 1, 4, 164, 176, 1], [57, 0, 4, 140, 241, 0], [45, 1, 1, 110, 264, 0], [68, 1, 4, 144, 193, 1], [57, 1, 4, 130, 131, 0], [57, 0, 2, 130, 236, 0], [38, 1, 3, 138, 175, 0]]\n"
     ]
    }
   ],
   "source": [
    "specific_range_test = range(no_of_tests,1192)\n",
    "df_test = pandas.read_csv(\"heart_statlog_cleveland_hungary_final.csv\", skiprows = lambda x: x not in specific_range_test and x != 0)\n",
    "\n",
    "test_arr = []\n",
    "target_truth = []\n",
    "for idx in range    (len(df_test)):\n",
    "    test_arr.append([df_test.at[idx, 'age'],df_test.at[idx, 'sex'],df_test.at[idx, 'chest_pain_type'],df_test.at[idx, 'resting_bps'],df_test.at[idx, 'cholesterol'], df_test.at[idx, 'fasting blood sugar']])\n",
    "    target_truth.append([df_test.at[idx, 'target']])\n",
    "target_truth = np.array( [item for sublist in target_truth for item in sublist])\n",
    "\n",
    "print(test_arr)\n",
    "#print(\"DTREE PREDICTION: \", dTree.predict([[49, 1, 3, 150, 291]]))\n",
    "#print(\"RFC PREDICTION: \",  rfc.predict([[49, 1, 3, 150, 291]]))"
   ]
  },
  {
   "cell_type": "code",
   "execution_count": 113,
   "metadata": {},
   "outputs": [
    {
     "name": "stdout",
     "output_type": "stream",
     "text": [
      "[1 0 0 0 1 0 0 0 0 0 1 1 1 0 0 0 0 1 0 1 1 0 0 0 1 1 1 0 1 0 0 0 1 1 0 1 0\n",
      " 0 0 0 1 0 1 1 1 1 0 0 1 0 1 0 1 1 1 0 1 1 0 1 1 1 1 0 1 0 0 1 0 0 0 1 0 0\n",
      " 0 0 0 0 0 1 0 0 0 1 1 1 0 0 0 0 0 0 1 0 1 1 1 1 1 1 0 1 1 0 0 0 1 1 1 1 0\n",
      " 1 1 0 1 1 0 0 0 0 0 0 0 0 1 1 1 0 0 1 0 1 0 1 1 0 0 0 0 0 0 1 1 1 1 1 1 0\n",
      " 0 1 0 0 0 0 0 0 1 0 1 0 1 0 1 1 0 1 0 0 1 1 0 0 1 0 0 1 1 1 0 1 1 1 0 1 0\n",
      " 0 0 1 0 0 0 0 0 1 1 1 0 1 0 1 0 1 1 0 0 0 0 0 0 0 0 1 1 0 0 0 1 1 0 1 1 0\n",
      " 0 1 1 1 0 0 0 0 0 1 0 1 1 1 1 0 0 1 0 0 0 0 0 0 0 1 0 1 0 0 1 1 1 1 1 0 1\n",
      " 0 1 0 1 0 0 0 0 0 1 0 1 0 1 1 1 0 0 0 0 1 1 1 0 0 1 0 1 1 0 0 0]\n",
      "[1 0 0 0 1 0 0 0 0 0 1 1 1 0 0 0 0 1 0 1 1 0 0 0 1 1 1 0 1 0 0 0 1 1 0 1 0\n",
      " 0 0 0 1 0 1 1 1 1 0 0 1 0 1 0 1 1 1 0 1 1 0 1 1 1 1 0 1 0 0 1 0 0 0 1 0 0\n",
      " 0 0 0 0 0 1 0 0 0 1 1 1 0 0 0 0 0 0 1 0 1 1 1 1 1 1 0 1 1 0 0 0 1 1 1 1 0\n",
      " 1 1 0 1 1 0 0 0 0 0 0 0 0 1 1 1 0 0 1 0 1 0 1 1 0 0 0 0 0 0 1 1 1 1 1 1 0\n",
      " 0 1 0 0 0 0 0 0 1 0 1 0 1 0 1 1 0 1 0 0 1 1 0 0 1 0 0 1 1 1 0 1 1 1 0 1 0\n",
      " 0 0 1 0 0 0 0 0 1 1 1 0 1 0 1 0 1 1 0 0 0 0 0 0 0 0 1 1 0 0 0 1 1 0 1 1 0\n",
      " 0 1 1 1 0 0 0 0 0 1 0 1 1 1 1 0 0 1 0 0 0 0 0 0 0 1 0 1 0 0 1 1 1 1 1 0 1\n",
      " 0 1 0 1 0 0 0 1 0 1 0 1 0 1 1 1 0 0 0 1 0 1 1 1 0 1 1 1 1 1 1 0]\n"
     ]
    }
   ],
   "source": [
    "test_predicted_dtree = dTree.predict(test_arr)\n",
    "\n",
    "print(test_predicted_dtree)\n",
    "print(target_truth)\n"
   ]
  },
  {
   "cell_type": "code",
   "execution_count": 118,
   "metadata": {},
   "outputs": [
    {
     "name": "stdout",
     "output_type": "stream",
     "text": [
      "Wrong prediction found at sample 1166: [57, 1, 2, 154, 232, 0]\n",
      "Truth is 0 while 1 is predicted.\n",
      "\n",
      "\n",
      "Wrong prediction found at sample 1178: [67, 1, 3, 152, 212, 0]\n",
      "Truth is 0 while 1 is predicted.\n",
      "\n",
      "\n",
      "Wrong prediction found at sample 1179: [55, 0, 2, 132, 342, 0]\n",
      "Truth is 1 while 0 is predicted.\n",
      "\n",
      "\n",
      "Wrong prediction found at sample 1182: [63, 0, 4, 124, 197, 0]\n",
      "Truth is 0 while 1 is predicted.\n",
      "\n",
      "\n",
      "Wrong prediction found at sample 1185: [57, 0, 4, 140, 241, 0]\n",
      "Truth is 0 while 1 is predicted.\n",
      "\n",
      "\n",
      "Wrong prediction found at sample 1188: [57, 1, 4, 130, 131, 0]\n",
      "Truth is 0 while 1 is predicted.\n",
      "\n",
      "\n",
      "Wrong prediction found at sample 1189: [57, 0, 2, 130, 236, 0]\n",
      "Truth is 0 while 1 is predicted.\n",
      "\n",
      "\n",
      "Total false predictions:  7  out of  291\n"
     ]
    },
    {
     "ename": "",
     "evalue": "",
     "output_type": "error",
     "traceback": [
      "\u001b[1;31mThe Kernel crashed while executing code in the current cell or a previous cell. \n",
      "\u001b[1;31mPlease review the code in the cell(s) to identify a possible cause of the failure. \n",
      "\u001b[1;31mClick <a href='https://aka.ms/vscodeJupyterKernelCrash'>here</a> for more info. \n",
      "\u001b[1;31mView Jupyter <a href='command:jupyter.viewOutput'>log</a> for further details."
     ]
    }
   ],
   "source": [
    "count_false_dtree = 0\n",
    "for idx in range(len(test_arr)):\n",
    "    #if np.array_equal(test_predicted_dtree[idx], target_truth[idx]):\n",
    "    if test_predicted_dtree[idx] == target_truth[idx]:\n",
    "        continue\n",
    "    else:\n",
    "        count_false_dtree +=1\n",
    "        print(\"Wrong prediction found at sample {}: {}\\nTruth is {} while {} is predicted.\\n\\n\".format(no_of_tests + idx, test_arr[idx], test_predicted_dtree[idx], target_truth[idx]))\n",
    "print('Total false predictions: ', count_false_dtree, ' out of ', len(test_arr))"
   ]
  },
  {
   "cell_type": "code",
   "execution_count": 115,
   "metadata": {},
   "outputs": [],
   "source": [
    "test_predicted_rfc = rfc.predict(test_arr)\n"
   ]
  },
  {
   "cell_type": "code",
   "execution_count": 116,
   "metadata": {},
   "outputs": [
    {
     "name": "stdout",
     "output_type": "stream",
     "text": [
      "Wrong prediction found at sample 916: [43, 1, 4, 150, 247, 0]\n",
      "Truth is 1 while 0 is predicted.\n",
      "\n",
      "\n",
      "Wrong prediction found at sample 1162: [59, 1, 1, 134, 204, 0]\n",
      "Truth is 0 while 1 is predicted.\n",
      "\n",
      "\n",
      "Wrong prediction found at sample 1166: [57, 1, 2, 154, 232, 0]\n",
      "Truth is 0 while 1 is predicted.\n",
      "\n",
      "\n",
      "Wrong prediction found at sample 1170: [55, 0, 4, 128, 205, 0]\n",
      "Truth is 0 while 1 is predicted.\n",
      "\n",
      "\n",
      "Wrong prediction found at sample 1182: [63, 0, 4, 124, 197, 0]\n",
      "Truth is 0 while 1 is predicted.\n",
      "\n",
      "\n",
      "Wrong prediction found at sample 1185: [57, 0, 4, 140, 241, 0]\n",
      "Truth is 0 while 1 is predicted.\n",
      "\n",
      "\n",
      "Wrong prediction found at sample 1186: [45, 1, 1, 110, 264, 0]\n",
      "Truth is 0 while 1 is predicted.\n",
      "\n",
      "\n",
      "Wrong prediction found at sample 1189: [57, 0, 2, 130, 236, 0]\n",
      "Truth is 0 while 1 is predicted.\n",
      "\n",
      "\n",
      "Total false prediction:  8\n"
     ]
    }
   ],
   "source": [
    "count_false_rfc = 0\n",
    "\n",
    "for idx in range(len(test_arr)):\n",
    "    if (test_predicted_rfc[idx] == target_truth[idx]).all():\n",
    "        continue\n",
    "    else:\n",
    "        count_false_rfc+=1\n",
    "        print(\"Wrong prediction found at sample {}: {}\\nTruth is {} while {} is predicted.\\n\\n\".format(no_of_tests + idx, test_arr[idx], test_predicted_rfc[idx], target_truth[idx]))\n",
    "print('Total false prediction: ', count_false_rfc)"
   ]
  },
  {
   "cell_type": "code",
   "execution_count": 117,
   "metadata": {},
   "outputs": [],
   "source": [
    "#tree.plot_tree(dTree, feature_names=features)\n",
    "#plt.savefig(\"maxdepth10.png\", dpi = 1000)"
   ]
  }
 ],
 "metadata": {
  "kernelspec": {
   "display_name": "Python 3",
   "language": "python",
   "name": "python3"
  },
  "language_info": {
   "codemirror_mode": {
    "name": "ipython",
    "version": 3
   },
   "file_extension": ".py",
   "mimetype": "text/x-python",
   "name": "python",
   "nbconvert_exporter": "python",
   "pygments_lexer": "ipython3",
   "version": "3.9.7"
  }
 },
 "nbformat": 4,
 "nbformat_minor": 2
}
